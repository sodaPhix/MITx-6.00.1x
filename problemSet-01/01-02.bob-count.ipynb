{
 "cells": [
  {
   "cell_type": "markdown",
   "metadata": {},
   "source": [
    "<div style=\"float: right;\">Created: 2019-Sep-29 Sun 13:05:55</div>"
   ]
  },
  {
   "cell_type": "markdown",
   "metadata": {},
   "source": [
    "<h1><center>Introduction to Computer Science and Programming Using Python</center></h1>\n",
    "\n",
    "<i><h2>ProblemSet: 01 Problem: 02</h2></i>\n",
    "\n",
    "<h2>Bob Count</h2>\n",
    "<h5>Author: C.A. Brashare (<i>sodaTab</i>)</h5>\n",
    "<h5>MITx: 6.00.1x</h5>\n",
    "\n"
   ]
  },
  {
   "cell_type": "markdown",
   "metadata": {},
   "source": [
    "<h6>Question:</h6>\n",
    "Assume s is a string of lower case characters.\n",
    "\n",
    "Write a program that prints the number of times the string 'bob' occurs in s. For example, if s = 'azcbobobegghakl', then your program should print\n",
    "\n",
    "Number of times bob occurs is: 2\n",
    "\n",
    "<h6>Answer Script:</h6>"
   ]
  },
  {
   "cell_type": "code",
   "execution_count": 1,
   "metadata": {},
   "outputs": [
    {
     "name": "stdout",
     "output_type": "stream",
     "text": [
      "Number of times bob occurs is:  4\n"
     ]
    }
   ],
   "source": [
    "## test sting\n",
    "s = 'phngluingboblwnafhcthulhurboobobooblyehwgahnaglfhtagnbobob'\n",
    "\n",
    "# number of bobs\n",
    "bobNumb = 0\n",
    "# length of s\n",
    "l = len(s)\n",
    "\n",
    "# the for loop\n",
    "# add 1 to l because range stop is not inclusive of itself.\n",
    "for i in range(l+1):\n",
    "    # Block: if statement\n",
    "    # if slice s[start at i , stop at (i+3)] is equal to 'bob'\n",
    "    if s[i:(i+3)] == 'bob':\n",
    "        # add step the bob count by one.\n",
    "        bobNumb += 1\n",
    "# end of our for loop. print the number of bobs.\n",
    "print('Number of times bob occurs is: ', str(bobNumb))\n",
    "\n"
   ]
  }
 ],
 "metadata": {
  "kernelspec": {
   "display_name": "Python 3",
   "language": "python",
   "name": "python3"
  },
  "language_info": {
   "codemirror_mode": {
    "name": "ipython",
    "version": 3
   },
   "file_extension": ".py",
   "mimetype": "text/x-python",
   "name": "python",
   "nbconvert_exporter": "python",
   "pygments_lexer": "ipython3",
   "version": "3.7.3"
  }
 },
 "nbformat": 4,
 "nbformat_minor": 2
}
