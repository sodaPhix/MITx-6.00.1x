{
 "cells": [
  {
   "cell_type": "code",
   "execution_count": 1,
   "metadata": {},
   "outputs": [
    {
     "name": "stdout",
     "output_type": "stream",
     "text": [
      "Number of times bob occurs is:  4\n"
     ]
    }
   ],
   "source": [
    "#!/usr/bin/env python3\n",
    "# -*- coding: utf-8 -*-\n",
    "\"\"\"\n",
    "Created on Sun Sep 29 13:05:55 2019\n",
    "\n",
    "@author: sodatab\n",
    "\"\"\"\n",
    "\"\"\"\n",
    "Assume s is a string of lower case characters.\n",
    "\n",
    "Write a program that prints the number of times the string 'bob' occurs in s.\n",
    "\"\"\"\n",
    "\n",
    "## test sting\n",
    "s = 'phngluingboblwnafhcthulhurboobobooblyehwgahnaglfhtagnbobob'\n",
    "\n",
    "# number of bobs\n",
    "bobNumb = 0\n",
    "# length of s\n",
    "l = len(s)\n",
    "\n",
    "# the for loop\n",
    "# add 1 to l because range stop is not inclusive of itself.\n",
    "for i in range(l+1):\n",
    "    # Block: if statement\n",
    "    # if slice s[start at i , stop at (i+3)] is equal to 'bob'\n",
    "    if s[i:(i+3)] == 'bob':\n",
    "        # add step the bob count by one.\n",
    "        bobNumb += 1\n",
    "# end of our for loop. print the number of bobs.\n",
    "print('Number of times bob occurs is: ', str(bobNumb))\n",
    "\n"
   ]
  },
  {
   "cell_type": "code",
   "execution_count": null,
   "metadata": {},
   "outputs": [],
   "source": []
  }
 ],
 "metadata": {
  "kernelspec": {
   "display_name": "Python 3",
   "language": "python",
   "name": "python3"
  },
  "language_info": {
   "codemirror_mode": {
    "name": "ipython",
    "version": 3
   },
   "file_extension": ".py",
   "mimetype": "text/x-python",
   "name": "python",
   "nbconvert_exporter": "python",
   "pygments_lexer": "ipython3",
   "version": "3.7.3"
  }
 },
 "nbformat": 4,
 "nbformat_minor": 2
}
