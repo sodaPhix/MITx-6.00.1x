{
 "cells": [
  {
   "cell_type": "code",
   "execution_count": 1,
   "metadata": {},
   "outputs": [
    {
     "name": "stdout",
     "output_type": "stream",
     "text": [
      "Number of vowels: 9\n"
     ]
    }
   ],
   "source": [
    "#!/usr/bin/env python3\n",
    "# -*- coding: utf-8 -*-\n",
    "\"\"\"\n",
    "Created on Sun Sep 29 11:17:17 2019\n",
    "\n",
    "@author: sodatab\n",
    "\"\"\"\n",
    "\"\"\"\n",
    "Assume s is a string of lower case characters.\n",
    "\n",
    "Write a program that counts up the number of vowels contained in the string s. Valid vowels are: 'a', 'e', 'i', 'o', and 'u'.\n",
    "\n",
    "Note: Do not include input statements or define variables we told you would be given. Our automated testing will provide values for you.\n",
    "\"\"\"\n",
    "\n",
    "# test sting\n",
    "s = 'phngluinglwnafhcthulhurlyehwgahnaglfhtagn'\n",
    "# vowel count\n",
    "vowelNumb = 0\n",
    "\n",
    "# the for loop\n",
    "for letter in s:\n",
    "    # Block: if statement\n",
    "    if letter == 'a' or letter == 'e' or letter == 'i' or letter == 'o' or letter == 'u':\n",
    "        # add step vowel count one\n",
    "        vowelNumb += 1\n",
    "# once all letters in s are evaluated, loop will exit here and print the following.\n",
    "print('Number of vowels: ' + str(vowelNumb))\n"
   ]
  },
  {
   "cell_type": "code",
   "execution_count": null,
   "metadata": {},
   "outputs": [],
   "source": []
  }
 ],
 "metadata": {
  "kernelspec": {
   "display_name": "Python 3",
   "language": "python",
   "name": "python3"
  },
  "language_info": {
   "codemirror_mode": {
    "name": "ipython",
    "version": 3
   },
   "file_extension": ".py",
   "mimetype": "text/x-python",
   "name": "python",
   "nbconvert_exporter": "python",
   "pygments_lexer": "ipython3",
   "version": "3.7.3"
  }
 },
 "nbformat": 4,
 "nbformat_minor": 2
}
