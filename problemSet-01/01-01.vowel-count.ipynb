{
 "cells": [
  {
   "cell_type": "markdown",
   "metadata": {},
   "source": [
    "!/usr/bin/env python3\n",
    "-*- coding: utf-8 -*-\n",
    "Created on Sun Sep 29 11:17:17 2019\n",
    "author: sodatab"
   ]
  },
  {
   "cell_type": "markdown",
   "metadata": {},
   "source": [
    "## 6.00.1x\n",
    "# ProblemSet: 01 Problem: 01\n",
    "(graded)\n",
    "\n",
    "Assume s is a string of lower case characters.\n",
    "\n",
    "Write a program that counts up the number of vowels contained in the string s. Valid vowels are: 'a', 'e', 'i', 'o', and 'u'. For example, if s = 'azcbobobegghakl', your program should print:\n",
    "\n",
    "Number of vowels: 5"
   ]
  },
  {
   "cell_type": "code",
   "execution_count": 1,
   "metadata": {},
   "outputs": [
    {
     "name": "stdout",
     "output_type": "stream",
     "text": [
      "Number of vowels: 9\n"
     ]
    }
   ],
   "source": [
    "# test sting\n",
    "s = 'phngluinglwnafhcthulhurlyehwgahnaglfhtagn'\n",
    "# vowel count\n",
    "vowelNumb = 0\n",
    "\n",
    "# the for loop\n",
    "for letter in s:\n",
    "    # Block: if statement\n",
    "    if letter == 'a' or letter == 'e' or letter == 'i' or letter == 'o' or letter == 'u':\n",
    "        # add step vowel count one\n",
    "        vowelNumb += 1\n",
    "# once all letters in s are evaluated, loop will exit here and print the following.\n",
    "print('Number of vowels: ' + str(vowelNumb))\n"
   ]
  }
 ],
 "metadata": {
  "kernelspec": {
   "display_name": "Python 3",
   "language": "python",
   "name": "python3"
  },
  "language_info": {
   "codemirror_mode": {
    "name": "ipython",
    "version": 3
   },
   "file_extension": ".py",
   "mimetype": "text/x-python",
   "name": "python",
   "nbconvert_exporter": "python",
   "pygments_lexer": "ipython3",
   "version": "3.7.3"
  }
 },
 "nbformat": 4,
 "nbformat_minor": 2
}
