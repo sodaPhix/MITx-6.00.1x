{
 "cells": [
  {
   "cell_type": "markdown",
   "metadata": {},
   "source": [
    "<div style=\"float: right;\">Created: 2019-Sep-29 Sun 11:17:17</div>"
   ]
  },
  {
   "cell_type": "markdown",
   "metadata": {},
   "source": [
    "<h1><center>Introduction to Computer Science and Programming Using Python</center></h1>\n",
    "\n",
    "<i><h2>ProblemSet: 01 Problem: 01</h2></i>\n",
    "\n",
    "<h2>Vowel Count</h2>\n",
    "<h5>Author: C.A. Brashare (<i>sodaTab</i>)</h5>\n",
    "<h5>MITx: 6.00.1x</h5>\n",
    "\n",
    "<h6>Question:</h6>\n",
    "\n",
    "Assume **s** is a string of lower case characters.\n",
    "\n",
    "Write a program that counts up the number of vowels contained in the string **s**. Valid vowels are: **'a', 'e', 'i', 'o', and 'u'**. \n",
    "<br>For example, if **s = 'azcbobobegghakl'**, your program should print:</br>\n",
    "\n",
    "**Number of vowels: 5**\n",
    "\n",
    "<h2>Answer Script:</h2>"
   ]
  },
  {
   "cell_type": "markdown",
   "metadata": {},
   "source": [
    "<h5>Variable defintitions</h5>\n",
    "<h6><i>Note:</i></h6> For problems such as these, do not include input statements or define variables we told you would be given. Our automated testing will provide values for you -\n",
    "Comment out test vairiables before submission."
   ]
  },
  {
   "cell_type": "code",
   "execution_count": 1,
   "metadata": {},
   "outputs": [],
   "source": [
    "## Test string\n",
    "s = 'phngluinglwnafhcthulhurlyehwgahnaglfhtagn'\n",
    "# Vowel counter\n",
    "vowelNumb = 0"
   ]
  },
  {
   "cell_type": "markdown",
   "metadata": {},
   "source": [
    "- **Test string** is assigned: **'phngluinglwnafhcthulhurlyehwgahnaglfhtagn'**\n",
    "- **vowelNumb** is assigned: **0**"
   ]
  },
  {
   "cell_type": "markdown",
   "metadata": {},
   "source": [
    "<h6>The \"for\" loop.</h6>"
   ]
  },
  {
   "cell_type": "code",
   "execution_count": 2,
   "metadata": {},
   "outputs": [],
   "source": [
    "for letter in s:\n",
    "        if letter == 'a' or letter == 'e' or letter == 'i' or letter == 'o' or letter == 'u':\n",
    "            vowelNumb += 1"
   ]
  },
  {
   "cell_type": "markdown",
   "metadata": {},
   "source": [
    "- For each **letter** in **s**\n",
    "    - If **letter** is equal to **a, e, i, o, u**\n",
    "        - Add **1** to the **vowel counter**"
   ]
  },
  {
   "cell_type": "markdown",
   "metadata": {},
   "source": [
    "<h6>Once all letters in \"s\" are evaluated, loop will terminate here</h6>"
   ]
  },
  {
   "cell_type": "code",
   "execution_count": 3,
   "metadata": {},
   "outputs": [
    {
     "name": "stdout",
     "output_type": "stream",
     "text": [
      "Number of vowels: 9\n"
     ]
    }
   ],
   "source": [
    "print('Number of vowels: ' + str(vowelNumb))"
   ]
  },
  {
   "cell_type": "markdown",
   "metadata": {},
   "source": [
    "- Print the string **'Number of vowels: '** \n",
    "<br>(+)<i>\"concatenated\"</i></br>\n",
    "<br>with the final **vowelNumb** count converted to string format using the **str()** function.</br>"
   ]
  }
 ],
 "metadata": {
  "kernelspec": {
   "display_name": "Python 3",
   "language": "python",
   "name": "python3"
  },
  "language_info": {
   "codemirror_mode": {
    "name": "ipython",
    "version": 3
   },
   "file_extension": ".py",
   "mimetype": "text/x-python",
   "name": "python",
   "nbconvert_exporter": "python",
   "pygments_lexer": "ipython3",
   "version": "3.7.3"
  }
 },
 "nbformat": 4,
 "nbformat_minor": 2
}
