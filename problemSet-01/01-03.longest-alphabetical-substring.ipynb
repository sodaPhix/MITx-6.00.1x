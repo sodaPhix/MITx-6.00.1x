{
 "cells": [
  {
   "cell_type": "markdown",
   "metadata": {},
   "source": [
    "<div style=\"float: right;\">Created: 2019-Sep-30 Mon 04:27:09</div>"
   ]
  },
  {
   "cell_type": "markdown",
   "metadata": {},
   "source": [
    "<h1><center>Introduction to Computer Science and Programming Using Python</center></h1>\n",
    "\n",
    "<i><h2>ProblemSet: 01 Problem: 03</h2></i>\n",
    "\n",
    "<h2>Longest Alphabetical Substring</h2>\n",
    "<h5>Author: C.A. Brashare (<i>sodaTab</i>)</h5>\n",
    "<h5>MITx: 6.00.1x</h5>\n",
    "\n",
    "<h6>Question:</h6>\n",
    "Assume s is a string of lower case characters.\n",
    "\n",
    "Write a program that prints the longest substring of s in which the letters occur in alphabetical order. For example, if s = 'azcbobobegghakl', then your program should print\n",
    "\n",
    "Longest substring in alphabetical order is: beggh\n",
    "\n",
    "In the case of ties, print the first substring. For example, if s = 'abcbcd', then your program should print\n",
    "\n",
    "Longest substring in alphabetical order is: abc\n",
    "<h6>Answer Script</h6>"
   ]
  },
  {
   "cell_type": "code",
   "execution_count": 1,
   "metadata": {},
   "outputs": [
    {
     "name": "stdout",
     "output_type": "stream",
     "text": [
      "Longest substring in alphabetical order is:  Iact\n"
     ]
    }
   ],
   "source": [
    "## Test string\n",
    "s = 'IaIacthulhufhtagnphngluimglwnafhcthulhurlyehwgahnaglfhtagn'\n",
    "\n",
    "# current substring\n",
    "cur = s[0]\n",
    "# Longest substring\n",
    "longest = s[0]\n",
    "\n",
    "# for i in range starting at one through the full length of s\n",
    "for i in range(1, len(s)):\n",
    "    # if s indexed at i is greater than or equal to current substring indexed at -1\n",
    "    if s[i] >= cur[-1]:\n",
    "        # addstep current substring by s indexed at i\n",
    "        cur += s[i]\n",
    "        # if length of current substring is greater than the length of the longest substring.\n",
    "        if len(cur) > len(longest):\n",
    "            # longest substring gets reassigned to current substring.\n",
    "            longest = cur\n",
    "    # or else s indexed at i is assigned to current substring.\n",
    "    else:\n",
    "        cur = s[i]\n",
    "# print the resulting longest substring.\n",
    "print('Longest substring in alphabetical order is: ', longest)\n",
    "\n",
    "        "
   ]
  }
 ],
 "metadata": {
  "kernelspec": {
   "display_name": "Python 3",
   "language": "python",
   "name": "python3"
  },
  "language_info": {
   "codemirror_mode": {
    "name": "ipython",
    "version": 3
   },
   "file_extension": ".py",
   "mimetype": "text/x-python",
   "name": "python",
   "nbconvert_exporter": "python",
   "pygments_lexer": "ipython3",
   "version": "3.7.3"
  }
 },
 "nbformat": 4,
 "nbformat_minor": 2
}
