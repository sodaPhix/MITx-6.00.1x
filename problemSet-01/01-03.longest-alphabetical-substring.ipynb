{
 "cells": [
  {
   "cell_type": "markdown",
   "metadata": {},
   "source": [
    "<div style=\"float: right;\">Created: 2019-Sep-30 Mon 04:27:09</div>"
   ]
  },
  {
   "cell_type": "markdown",
   "metadata": {},
   "source": [
    "<h1><center>Introduction to Computer Science and Programming Using Python</center></h1>\n",
    "\n",
    "<i><h2>ProblemSet: 01 Problem: 03</h2></i>\n",
    "\n",
    "<h2>Longest Alphabetical Substring</h2>\n",
    "<h5>Author: C.A. Brashare (<i>sodaTab</i>)</h5>\n",
    "<h5>MITx: 6.00.1x</h5>\n",
    "\n",
    "<h6>Question:</h6>\n",
    "\n",
    "Assume **s** is a string of lower case characters.\n",
    "\n",
    "Write a program that prints the longest substring of **s** in which the letters occur in alphabetical order. For example, if **s = 'azcbobobegghakl'**, then your program should print\n",
    "\n",
    "**Longest substring in alphabetical order is: beggh**\n",
    "\n",
    "In the case of ties, print the first substring. For example, if **s = 'abcbcd'**, then your program should print\n",
    "\n",
    "**Longest substring in alphabetical order is: abc**\n",
    "\n",
    "<h6>Answer Script:</h6>"
   ]
  },
  {
   "cell_type": "markdown",
   "metadata": {},
   "source": [
    "<h5>Variable defintitions</h5>"
   ]
  },
  {
   "cell_type": "code",
   "execution_count": 1,
   "metadata": {},
   "outputs": [],
   "source": [
    "## Test string\n",
    "s = 'IaIacthulhufhtagnphngluimglwnafhcthulhurlyehwgahnaglfhtagn'\n",
    "\n",
    "# Current alphabetical substring\n",
    "currAlph = s[0]\n",
    "\n",
    "# Longest alphabetical substring\n",
    "longestAlph = s[0]\n"
   ]
  },
  {
   "cell_type": "markdown",
   "metadata": {},
   "source": [
    "- *Test string* **s** is assigned: **'IaIacthulhufhtagnphngluimglwnafhcthulhurlyehwgahnaglfhtagn'**\n",
    "- **currAlph** substring is assigned **s[indexed at 0]**\n",
    "- **longestAlph** substring is assigned **s[indexes at 0]**"
   ]
  },
  {
   "cell_type": "markdown",
   "metadata": {},
   "source": [
    "<h6>The \"for\" loop.</h6>"
   ]
  },
  {
   "cell_type": "code",
   "execution_count": 2,
   "metadata": {},
   "outputs": [],
   "source": [
    "for i in range(1, len(s)):\n",
    "    if s[i] >= currAlph[-1]:\n",
    "        currAlph += s[i]\n",
    "        if len(currAlph) > len(longestAlph):\n",
    "            longestAlph = currAlph\n",
    "    else:\n",
    "        currAlph = s[i]"
   ]
  },
  {
   "cell_type": "markdown",
   "metadata": {},
   "source": [
    "- For **i** in **range(starting at 1, the length of *s*)**\n",
    "    - If **s[indexed at *i*]** is greater than or equal to **currAlph[indexed at *i*]**\n",
    "        - **currAlph** addstepped by **s[indexed at *i*]**\n",
    "        - If **length** of **currAlph** greater than **length** of **longestAlph**\n",
    "            - **longestAlph** is assigned **currAlph**\n",
    "    - or else\n",
    "        - **currAlph** is assigned **s[indexed at *i*]**"
   ]
  },
  {
   "cell_type": "code",
   "execution_count": 3,
   "metadata": {},
   "outputs": [
    {
     "name": "stdout",
     "output_type": "stream",
     "text": [
      "Longest substring in alphabetical order is:  Iact\n"
     ]
    }
   ],
   "source": [
    "print('Longest substring in alphabetical order is: ', longestAlph)        "
   ]
  },
  {
   "cell_type": "markdown",
   "metadata": {},
   "source": [
    "- print the string **'Longest substring in alphabetical order is: '**\n",
    "    - **(+)** *concatenated*\n",
    "    - with the final **longest alphabetical** substring"
   ]
  }
 ],
 "metadata": {
  "kernelspec": {
   "display_name": "Python 3",
   "language": "python",
   "name": "python3"
  },
  "language_info": {
   "codemirror_mode": {
    "name": "ipython",
    "version": 3
   },
   "file_extension": ".py",
   "mimetype": "text/x-python",
   "name": "python",
   "nbconvert_exporter": "python",
   "pygments_lexer": "ipython3",
   "version": "3.7.3"
  }
 },
 "nbformat": 4,
 "nbformat_minor": 2
}
