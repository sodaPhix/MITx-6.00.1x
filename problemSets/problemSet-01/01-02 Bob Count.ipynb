{
 "cells": [
  {
   "cell_type": "markdown",
   "metadata": {},
   "source": [
    "<div style=\"float: right;\">Created: 2019-Sep-29 Sun 13:05:55</div>"
   ]
  },
  {
   "cell_type": "markdown",
   "metadata": {},
   "source": [
    "<h1><center>Introduction to Computer Science and Programming Using Python</center></h1>\n",
    "\n",
    "<i><h2>ProblemSet: 01 Problem: 02</h2></i>\n",
    "\n",
    "<h2>Bob Count</h2>\n",
    "<h5>Author: C.A. Brashare (<i>sodaTab</i>)</h5>\n",
    "<h5>MITx: 6.00.1x</h5>\n",
    "\n"
   ]
  },
  {
   "cell_type": "markdown",
   "metadata": {},
   "source": [
    "<h6>Question:</h6>\n",
    "\n",
    "Assume **s** is a string of lower case characters.\n",
    "\n",
    "Write a program that prints the number of times the string **'bob'** occurs in s. For example, if **s = 'azcbobobegghakl'**, then your program should print\n",
    "\n",
    "**Number of times bob occurs is: 2**\n",
    "\n",
    "<h6>Answer Script:</h6>"
   ]
  },
  {
   "cell_type": "markdown",
   "metadata": {},
   "source": [
    "<h5>Variable Definitions</h5>"
   ]
  },
  {
   "cell_type": "code",
   "execution_count": 1,
   "metadata": {},
   "outputs": [],
   "source": [
    "## Test string\n",
    "s = 'phngluingboblwnafhcthulhurboobobooblyehwgahnaglfhtagnbobob'\n",
    "\n",
    "# Number of bobs\n",
    "bobNumb = 0\n",
    "\n",
    "# Length of s\n",
    "l = len(s)"
   ]
  },
  {
   "cell_type": "markdown",
   "metadata": {},
   "source": [
    "- *Test string* **s** is assigned the string **'phngluingboblwnafhcthulhurboobobooblyehwgahnaglfhtagnbobob'**\n",
    "- **bobNumb** is assigned **0**\n",
    "- **l** is assigned the **length** of **s**"
   ]
  },
  {
   "cell_type": "markdown",
   "metadata": {},
   "source": [
    "<h5>The 'for' loop</h5>"
   ]
  },
  {
   "cell_type": "code",
   "execution_count": 2,
   "metadata": {},
   "outputs": [],
   "source": [
    "for i in range(l+1): # Add 1 to l because range stop is not inclusive of itself.\n",
    "    if s[i:(i+3)] == 'bob':\n",
    "        bobNumb += 1"
   ]
  },
  {
   "cell_type": "markdown",
   "metadata": {},
   "source": [
    "- For **i** in **range** **l**ength of **s** add **1**\n",
    "    - if slice **s[start at i, stop at (*i*+3)]** is equal to **'bob'**\n",
    "        - Add **1** to the **bob** counter"
   ]
  },
  {
   "cell_type": "markdown",
   "metadata": {},
   "source": [
    "<h6>Once all letters in \"s\" are evaluated, loop will terminate here</h6>"
   ]
  },
  {
   "cell_type": "code",
   "execution_count": 3,
   "metadata": {},
   "outputs": [
    {
     "name": "stdout",
     "output_type": "stream",
     "text": [
      "Number of times bob occurs is:  4\n"
     ]
    }
   ],
   "source": [
    "print('Number of times bob occurs is: ', str(bobNumb))"
   ]
  },
  {
   "cell_type": "markdown",
   "metadata": {},
   "source": [
    "- Print **'Number of times bob occurs is: '**\n",
    "    - **(+)** *\"concatenated\"*\n",
    "    - with the final **bobNumb** count  converted to string format using the **str()** function"
   ]
  }
 ],
 "metadata": {
  "kernelspec": {
   "display_name": "Python 3",
   "language": "python",
   "name": "python3"
  },
  "language_info": {
   "codemirror_mode": {
    "name": "ipython",
    "version": 3
   },
   "file_extension": ".py",
   "mimetype": "text/x-python",
   "name": "python",
   "nbconvert_exporter": "python",
   "pygments_lexer": "ipython3",
   "version": "3.7.3"
  }
 },
 "nbformat": 4,
 "nbformat_minor": 2
}
